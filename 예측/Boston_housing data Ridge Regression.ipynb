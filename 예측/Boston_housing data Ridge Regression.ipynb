{
 "cells": [
  {
   "cell_type": "code",
   "execution_count": 204,
   "metadata": {},
   "outputs": [],
   "source": [
    "# 보스턴 데이터 로드\n",
    "\n",
    "from sklearn.datasets import load_boston\n",
    "\n",
    "boston=load_boston()\n"
   ]
  },
  {
   "cell_type": "code",
   "execution_count": 205,
   "metadata": {
    "scrolled": false
   },
   "outputs": [
    {
     "data": {
      "text/plain": [
       "array([[6.3200e-03, 1.8000e+01, 2.3100e+00, ..., 1.5300e+01, 3.9690e+02,\n",
       "        4.9800e+00],\n",
       "       [2.7310e-02, 0.0000e+00, 7.0700e+00, ..., 1.7800e+01, 3.9690e+02,\n",
       "        9.1400e+00],\n",
       "       [2.7290e-02, 0.0000e+00, 7.0700e+00, ..., 1.7800e+01, 3.9283e+02,\n",
       "        4.0300e+00],\n",
       "       ...,\n",
       "       [6.0760e-02, 0.0000e+00, 1.1930e+01, ..., 2.1000e+01, 3.9690e+02,\n",
       "        5.6400e+00],\n",
       "       [1.0959e-01, 0.0000e+00, 1.1930e+01, ..., 2.1000e+01, 3.9345e+02,\n",
       "        6.4800e+00],\n",
       "       [4.7410e-02, 0.0000e+00, 1.1930e+01, ..., 2.1000e+01, 3.9690e+02,\n",
       "        7.8800e+00]])"
      ]
     },
     "execution_count": 205,
     "metadata": {},
     "output_type": "execute_result"
    }
   ],
   "source": [
    "boston.data"
   ]
  },
  {
   "cell_type": "code",
   "execution_count": 206,
   "metadata": {
    "scrolled": false
   },
   "outputs": [
    {
     "data": {
      "text/plain": [
       "['.. _boston_dataset:',\n",
       " '',\n",
       " 'Boston house prices dataset',\n",
       " '---------------------------',\n",
       " '',\n",
       " '**Data Set Characteristics:**  ',\n",
       " '',\n",
       " '    :Number of Instances: 506 ',\n",
       " '',\n",
       " '    :Number of Attributes: 13 numeric/categorical predictive. Median Value (attribute 14) is usually the target.',\n",
       " '',\n",
       " '    :Attribute Information (in order):',\n",
       " '        - CRIM     per capita crime rate by town',\n",
       " '        - ZN       proportion of residential land zoned for lots over 25,000 sq.ft.',\n",
       " '        - INDUS    proportion of non-retail business acres per town',\n",
       " '        - CHAS     Charles River dummy variable (= 1 if tract bounds river; 0 otherwise)',\n",
       " '        - NOX      nitric oxides concentration (parts per 10 million)',\n",
       " '        - RM       average number of rooms per dwelling',\n",
       " '        - AGE      proportion of owner-occupied units built prior to 1940',\n",
       " '        - DIS      weighted distances to five Boston employment centres',\n",
       " '        - RAD      index of accessibility to radial highways',\n",
       " '        - TAX      full-value property-tax rate per $10,000',\n",
       " '        - PTRATIO  pupil-teacher ratio by town',\n",
       " '        - B        1000(Bk - 0.63)^2 where Bk is the proportion of blacks by town',\n",
       " '        - LSTAT    % lower status of the population',\n",
       " \"        - MEDV     Median value of owner-occupied homes in $1000's\",\n",
       " '',\n",
       " '    :Missing Attribute Values: None',\n",
       " '',\n",
       " '    :Creator: Harrison, D. and Rubinfeld, D.L.',\n",
       " '',\n",
       " 'This is a copy of UCI ML housing dataset.',\n",
       " 'https://archive.ics.uci.edu/ml/machine-learning-databases/housing/',\n",
       " '',\n",
       " '',\n",
       " 'This dataset was taken from the StatLib library which is maintained at Carnegie Mellon University.',\n",
       " '',\n",
       " \"The Boston house-price data of Harrison, D. and Rubinfeld, D.L. 'Hedonic\",\n",
       " \"prices and the demand for clean air', J. Environ. Economics & Management,\",\n",
       " \"vol.5, 81-102, 1978.   Used in Belsley, Kuh & Welsch, 'Regression diagnostics\",\n",
       " \"...', Wiley, 1980.   N.B. Various transformations are used in the table on\",\n",
       " 'pages 244-261 of the latter.',\n",
       " '',\n",
       " 'The Boston house-price data has been used in many machine learning papers that address regression',\n",
       " 'problems.   ',\n",
       " '     ',\n",
       " '.. topic:: References',\n",
       " '',\n",
       " \"   - Belsley, Kuh & Welsch, 'Regression diagnostics: Identifying Influential Data and Sources of Collinearity', Wiley, 1980. 244-261.\",\n",
       " '   - Quinlan,R. (1993). Combining Instance-Based and Model-Based Learning. In Proceedings on the Tenth International Conference of Machine Learning, 236-243, University of Massachusetts, Amherst. Morgan Kaufmann.',\n",
       " '']"
      ]
     },
     "execution_count": 206,
     "metadata": {},
     "output_type": "execute_result"
    }
   ],
   "source": [
    "#컬럼 파악\n",
    "boston.DESCR.split('\\n')"
   ]
  },
  {
   "cell_type": "markdown",
   "metadata": {},
   "source": [
    "##### 데이터 개수 : 506\n",
    "##### 변수 개수 : 13\n",
    "##### 변수 설명\n",
    "\n",
    "\n",
    "- CRIM     도시별 인당 범죄율',\n",
    "- ZN       25,000 평방 피트를 초과하는 거주지역의 비율.',\n",
    "- INDUS    도시별 비소매 상업 지역의 비율',\n",
    "- CHAS     찰스강 더미변수(강 경계에 위치:1, 나머지 :0)',\n",
    "- NOX      일산화질소의 농도(10PPM당)',\n",
    "- RM       주택당 평균 방의 개수',\n",
    "- AGE      1940년 이전에 지어진 소유주택 비율',\n",
    "- DIS      5개의 보스턴 직업센터까지의 거리 접근성 지수',\n",
    "- RAD      방사형도로까지의 접근성 지수',\n",
    "- TAX      10,000달러당 재산세 비율',\n",
    "- PTRATIO  도시당 학생-선생님 비율',\n",
    "- B        1000(Bk - 0.63)^2  => Bk:자치시별 흑인의 비율',\n",
    "- LSTAT    모집단의 하위계층 비율(%)',\n",
    "- MEDV     소유주택의 중앙값 ($1000)\n",
    "\n",
    "\n"
   ]
  },
  {
   "cell_type": "code",
   "execution_count": 207,
   "metadata": {},
   "outputs": [
    {
     "data": {
      "text/html": [
       "<div>\n",
       "<style scoped>\n",
       "    .dataframe tbody tr th:only-of-type {\n",
       "        vertical-align: middle;\n",
       "    }\n",
       "\n",
       "    .dataframe tbody tr th {\n",
       "        vertical-align: top;\n",
       "    }\n",
       "\n",
       "    .dataframe thead th {\n",
       "        text-align: right;\n",
       "    }\n",
       "</style>\n",
       "<table border=\"1\" class=\"dataframe\">\n",
       "  <thead>\n",
       "    <tr style=\"text-align: right;\">\n",
       "      <th></th>\n",
       "      <th>CRIM</th>\n",
       "      <th>ZN</th>\n",
       "      <th>INDUS</th>\n",
       "      <th>CHAS</th>\n",
       "      <th>NOX</th>\n",
       "      <th>RM</th>\n",
       "      <th>AGE</th>\n",
       "      <th>DIS</th>\n",
       "      <th>RAD</th>\n",
       "      <th>TAX</th>\n",
       "      <th>PTRATIO</th>\n",
       "      <th>B</th>\n",
       "      <th>LSTAT</th>\n",
       "      <th>PRICE</th>\n",
       "    </tr>\n",
       "  </thead>\n",
       "  <tbody>\n",
       "    <tr>\n",
       "      <th>0</th>\n",
       "      <td>0.00632</td>\n",
       "      <td>18.0</td>\n",
       "      <td>2.31</td>\n",
       "      <td>0.0</td>\n",
       "      <td>0.538</td>\n",
       "      <td>6.575</td>\n",
       "      <td>65.2</td>\n",
       "      <td>4.0900</td>\n",
       "      <td>1.0</td>\n",
       "      <td>296.0</td>\n",
       "      <td>15.3</td>\n",
       "      <td>396.90</td>\n",
       "      <td>4.98</td>\n",
       "      <td>24.0</td>\n",
       "    </tr>\n",
       "    <tr>\n",
       "      <th>1</th>\n",
       "      <td>0.02731</td>\n",
       "      <td>0.0</td>\n",
       "      <td>7.07</td>\n",
       "      <td>0.0</td>\n",
       "      <td>0.469</td>\n",
       "      <td>6.421</td>\n",
       "      <td>78.9</td>\n",
       "      <td>4.9671</td>\n",
       "      <td>2.0</td>\n",
       "      <td>242.0</td>\n",
       "      <td>17.8</td>\n",
       "      <td>396.90</td>\n",
       "      <td>9.14</td>\n",
       "      <td>21.6</td>\n",
       "    </tr>\n",
       "    <tr>\n",
       "      <th>2</th>\n",
       "      <td>0.02729</td>\n",
       "      <td>0.0</td>\n",
       "      <td>7.07</td>\n",
       "      <td>0.0</td>\n",
       "      <td>0.469</td>\n",
       "      <td>7.185</td>\n",
       "      <td>61.1</td>\n",
       "      <td>4.9671</td>\n",
       "      <td>2.0</td>\n",
       "      <td>242.0</td>\n",
       "      <td>17.8</td>\n",
       "      <td>392.83</td>\n",
       "      <td>4.03</td>\n",
       "      <td>34.7</td>\n",
       "    </tr>\n",
       "    <tr>\n",
       "      <th>3</th>\n",
       "      <td>0.03237</td>\n",
       "      <td>0.0</td>\n",
       "      <td>2.18</td>\n",
       "      <td>0.0</td>\n",
       "      <td>0.458</td>\n",
       "      <td>6.998</td>\n",
       "      <td>45.8</td>\n",
       "      <td>6.0622</td>\n",
       "      <td>3.0</td>\n",
       "      <td>222.0</td>\n",
       "      <td>18.7</td>\n",
       "      <td>394.63</td>\n",
       "      <td>2.94</td>\n",
       "      <td>33.4</td>\n",
       "    </tr>\n",
       "    <tr>\n",
       "      <th>4</th>\n",
       "      <td>0.06905</td>\n",
       "      <td>0.0</td>\n",
       "      <td>2.18</td>\n",
       "      <td>0.0</td>\n",
       "      <td>0.458</td>\n",
       "      <td>7.147</td>\n",
       "      <td>54.2</td>\n",
       "      <td>6.0622</td>\n",
       "      <td>3.0</td>\n",
       "      <td>222.0</td>\n",
       "      <td>18.7</td>\n",
       "      <td>396.90</td>\n",
       "      <td>5.33</td>\n",
       "      <td>36.2</td>\n",
       "    </tr>\n",
       "    <tr>\n",
       "      <th>...</th>\n",
       "      <td>...</td>\n",
       "      <td>...</td>\n",
       "      <td>...</td>\n",
       "      <td>...</td>\n",
       "      <td>...</td>\n",
       "      <td>...</td>\n",
       "      <td>...</td>\n",
       "      <td>...</td>\n",
       "      <td>...</td>\n",
       "      <td>...</td>\n",
       "      <td>...</td>\n",
       "      <td>...</td>\n",
       "      <td>...</td>\n",
       "      <td>...</td>\n",
       "    </tr>\n",
       "    <tr>\n",
       "      <th>501</th>\n",
       "      <td>0.06263</td>\n",
       "      <td>0.0</td>\n",
       "      <td>11.93</td>\n",
       "      <td>0.0</td>\n",
       "      <td>0.573</td>\n",
       "      <td>6.593</td>\n",
       "      <td>69.1</td>\n",
       "      <td>2.4786</td>\n",
       "      <td>1.0</td>\n",
       "      <td>273.0</td>\n",
       "      <td>21.0</td>\n",
       "      <td>391.99</td>\n",
       "      <td>9.67</td>\n",
       "      <td>22.4</td>\n",
       "    </tr>\n",
       "    <tr>\n",
       "      <th>502</th>\n",
       "      <td>0.04527</td>\n",
       "      <td>0.0</td>\n",
       "      <td>11.93</td>\n",
       "      <td>0.0</td>\n",
       "      <td>0.573</td>\n",
       "      <td>6.120</td>\n",
       "      <td>76.7</td>\n",
       "      <td>2.2875</td>\n",
       "      <td>1.0</td>\n",
       "      <td>273.0</td>\n",
       "      <td>21.0</td>\n",
       "      <td>396.90</td>\n",
       "      <td>9.08</td>\n",
       "      <td>20.6</td>\n",
       "    </tr>\n",
       "    <tr>\n",
       "      <th>503</th>\n",
       "      <td>0.06076</td>\n",
       "      <td>0.0</td>\n",
       "      <td>11.93</td>\n",
       "      <td>0.0</td>\n",
       "      <td>0.573</td>\n",
       "      <td>6.976</td>\n",
       "      <td>91.0</td>\n",
       "      <td>2.1675</td>\n",
       "      <td>1.0</td>\n",
       "      <td>273.0</td>\n",
       "      <td>21.0</td>\n",
       "      <td>396.90</td>\n",
       "      <td>5.64</td>\n",
       "      <td>23.9</td>\n",
       "    </tr>\n",
       "    <tr>\n",
       "      <th>504</th>\n",
       "      <td>0.10959</td>\n",
       "      <td>0.0</td>\n",
       "      <td>11.93</td>\n",
       "      <td>0.0</td>\n",
       "      <td>0.573</td>\n",
       "      <td>6.794</td>\n",
       "      <td>89.3</td>\n",
       "      <td>2.3889</td>\n",
       "      <td>1.0</td>\n",
       "      <td>273.0</td>\n",
       "      <td>21.0</td>\n",
       "      <td>393.45</td>\n",
       "      <td>6.48</td>\n",
       "      <td>22.0</td>\n",
       "    </tr>\n",
       "    <tr>\n",
       "      <th>505</th>\n",
       "      <td>0.04741</td>\n",
       "      <td>0.0</td>\n",
       "      <td>11.93</td>\n",
       "      <td>0.0</td>\n",
       "      <td>0.573</td>\n",
       "      <td>6.030</td>\n",
       "      <td>80.8</td>\n",
       "      <td>2.5050</td>\n",
       "      <td>1.0</td>\n",
       "      <td>273.0</td>\n",
       "      <td>21.0</td>\n",
       "      <td>396.90</td>\n",
       "      <td>7.88</td>\n",
       "      <td>11.9</td>\n",
       "    </tr>\n",
       "  </tbody>\n",
       "</table>\n",
       "<p>506 rows × 14 columns</p>\n",
       "</div>"
      ],
      "text/plain": [
       "        CRIM    ZN  INDUS  CHAS    NOX     RM   AGE     DIS  RAD    TAX  \\\n",
       "0    0.00632  18.0   2.31   0.0  0.538  6.575  65.2  4.0900  1.0  296.0   \n",
       "1    0.02731   0.0   7.07   0.0  0.469  6.421  78.9  4.9671  2.0  242.0   \n",
       "2    0.02729   0.0   7.07   0.0  0.469  7.185  61.1  4.9671  2.0  242.0   \n",
       "3    0.03237   0.0   2.18   0.0  0.458  6.998  45.8  6.0622  3.0  222.0   \n",
       "4    0.06905   0.0   2.18   0.0  0.458  7.147  54.2  6.0622  3.0  222.0   \n",
       "..       ...   ...    ...   ...    ...    ...   ...     ...  ...    ...   \n",
       "501  0.06263   0.0  11.93   0.0  0.573  6.593  69.1  2.4786  1.0  273.0   \n",
       "502  0.04527   0.0  11.93   0.0  0.573  6.120  76.7  2.2875  1.0  273.0   \n",
       "503  0.06076   0.0  11.93   0.0  0.573  6.976  91.0  2.1675  1.0  273.0   \n",
       "504  0.10959   0.0  11.93   0.0  0.573  6.794  89.3  2.3889  1.0  273.0   \n",
       "505  0.04741   0.0  11.93   0.0  0.573  6.030  80.8  2.5050  1.0  273.0   \n",
       "\n",
       "     PTRATIO       B  LSTAT  PRICE  \n",
       "0       15.3  396.90   4.98   24.0  \n",
       "1       17.8  396.90   9.14   21.6  \n",
       "2       17.8  392.83   4.03   34.7  \n",
       "3       18.7  394.63   2.94   33.4  \n",
       "4       18.7  396.90   5.33   36.2  \n",
       "..       ...     ...    ...    ...  \n",
       "501     21.0  391.99   9.67   22.4  \n",
       "502     21.0  396.90   9.08   20.6  \n",
       "503     21.0  396.90   5.64   23.9  \n",
       "504     21.0  393.45   6.48   22.0  \n",
       "505     21.0  396.90   7.88   11.9  \n",
       "\n",
       "[506 rows x 14 columns]"
      ]
     },
     "execution_count": 207,
     "metadata": {},
     "output_type": "execute_result"
    }
   ],
   "source": [
    "# 보스턴 데이터를 데이터 프레임 형태로 변환\n",
    "\n",
    "import pandas as pd\n",
    "\n",
    "df=pd.DataFrame(data=boston.data,columns=boston.feature_names)\n",
    "df\n",
    "\n",
    "df['PRICE']=boston.target\n",
    "\n",
    "\n",
    "df"
   ]
  },
  {
   "cell_type": "code",
   "execution_count": 208,
   "metadata": {
    "scrolled": true
   },
   "outputs": [
    {
     "name": "stdout",
     "output_type": "stream",
     "text": [
      "(379, 13) (379,) (127, 13) (127,)\n"
     ]
    }
   ],
   "source": [
    "#훈련데이터와 테스트 데이터로 분리\n",
    "\n",
    "x=df.iloc[:,:-1].to_numpy()\n",
    "y=df.iloc[:,-1]\n",
    "\n",
    "from sklearn.model_selection import train_test_split\n",
    "\n",
    "x_train,x_test,y_train,y_test=train_test_split(x,y,random_state=0)\n",
    "\n",
    "print(x_train.shape,y_train.shape,x_test.shape,y_test.shape)"
   ]
  },
  {
   "cell_type": "markdown",
   "metadata": {},
   "source": [
    "### 단순회귀분석"
   ]
  },
  {
   "cell_type": "code",
   "execution_count": 209,
   "metadata": {},
   "outputs": [],
   "source": [
    "# 회귀모델\n",
    "from sklearn.linear_model import LinearRegression\n",
    "\n",
    "lr=LinearRegression()"
   ]
  },
  {
   "cell_type": "code",
   "execution_count": 210,
   "metadata": {},
   "outputs": [],
   "source": [
    "#다항회귀식을 만들기위한 특성 공학\n",
    "\n",
    "from sklearn.preprocessing import PolynomialFeatures\n",
    "\n",
    "poly=PolynomialFeatures(include_bias=False)\n",
    "\n",
    "train_poly=poly.fit_transform(x_train)\n",
    "test_poly=poly.transform(x_test)\n"
   ]
  },
  {
   "cell_type": "code",
   "execution_count": 211,
   "metadata": {},
   "outputs": [
    {
     "name": "stdout",
     "output_type": "stream",
     "text": [
      "훈련 데이터 점수 : 0.952\n",
      "테스트 데이터 점수 :0.607\n"
     ]
    }
   ],
   "source": [
    "#모델 훈련\n",
    "lr.fit(train_poly,y_train)\n",
    "\n",
    "#모델 점수 확인\n",
    "print('훈련 데이터 점수 : {:.3f}'.format(lr.score(train_poly,y_train)))\n",
    "print('테스트 데이터 점수 :{:.3f}'.format(lr.score(test_poly,y_test)))"
   ]
  },
  {
   "cell_type": "markdown",
   "metadata": {},
   "source": [
    "단순회귀분석을 실시했을 때, 훈련데이터에 과대적합되어있는 결과가 나타났다.  \n",
    "이는 변수의 단위가 달라 특정 변수가 가격에 지나친 영향을 미쳤을 가능성이 있으므로 표준화를 실시하여 점수를 재 측정한다."
   ]
  },
  {
   "cell_type": "code",
   "execution_count": 212,
   "metadata": {},
   "outputs": [],
   "source": [
    "#표준화\n",
    "\n",
    "from sklearn.preprocessing import StandardScaler\n",
    "\n",
    "ss=StandardScaler()\n",
    "\n",
    "scaled_train=ss.fit_transform(train_poly)\n",
    "scaled_test=ss.transform(test_poly)"
   ]
  },
  {
   "cell_type": "markdown",
   "metadata": {},
   "source": [
    "### Ridge회귀"
   ]
  },
  {
   "cell_type": "code",
   "execution_count": 213,
   "metadata": {},
   "outputs": [
    {
     "name": "stdout",
     "output_type": "stream",
     "text": [
      "훈련 데이터 점수 : 0.932\n",
      "테스트 데이터 점수 : 0.762\n"
     ]
    }
   ],
   "source": [
    "#정규화된 데이터를 이용한 릿지 회귀\n",
    "\n",
    "from sklearn.linear_model import Ridge\n",
    "\n",
    "ridge=Ridge()\n",
    "\n",
    "ridge.fit(scaled_train,y_train)\n",
    "print('훈련 데이터 점수 : {:.3f}'.format(ridge.score(scaled_train,y_train)))\n",
    "print('테스트 데이터 점수 : {:.3f}'.format(ridge.score(scaled_test,y_test)))"
   ]
  },
  {
   "cell_type": "markdown",
   "metadata": {},
   "source": [
    "릿지 회귀의 훈련데이터 점수와 테스트 데이터 점수의 차이가 큰 과대적합 상태임을 확인할 수 있었다.\n",
    "\n",
    "이를 해결하기 위해서 릿지회귀의 하이퍼 파라미터인 alpha값을 조정한다.\n"
   ]
  },
  {
   "cell_type": "code",
   "execution_count": 214,
   "metadata": {
    "scrolled": false
   },
   "outputs": [
    {
     "data": {
      "image/png": "[encoded data removed]",
      "text/plain": [
       "<Figure size 1152x648 with 1 Axes>"
      ]
     },
     "metadata": {
      "needs_background": "light"
     },
     "output_type": "display_data"
    }
   ],
   "source": [
    "#릿지 회귀식의 최적 alpha값 찾기\n",
    "\n",
    "import numpy as np\n",
    "\n",
    "train_score=[]\n",
    "test_score=[]\n",
    "alpha_list=[0.001,0.01,0.1,1,10,100]\n",
    "\n",
    "\n",
    "for alpha in alpha_list:\n",
    "    ridge=Ridge(alpha=alpha)\n",
    "    ridge.fit(scaled_train,y_train)\n",
    "    train_score.append(ridge.score(scaled_train,y_train))\n",
    "    test_score.append(ridge.score(scaled_test,y_test))\n",
    "\n",
    "#시각화\n",
    "import matplotlib.pyplot as plt\n",
    "\n",
    "\n",
    "fig=plt.figure(figsize=(16,9))\n",
    "plt.rcParams['font.family']='Malgun Gothic'\n",
    "\n",
    "\n",
    "plt.plot(np.log10(alpha_list),train_score) #log를 안할 경우 왼쪽에 치우치기 때문에 보기 편하게 log를 사용\n",
    "plt.plot(np.log10(alpha_list),test_score)\n",
    "plt.rc('axes',unicode_minus=False)\n",
    "plt.xlabel('alpha')\n",
    "plt.ylabel('R^2')\n",
    "plt.show()"
   ]
  },
  {
   "cell_type": "markdown",
   "metadata": {},
   "source": [
    "10^1 이후로 정확도가 급감하는 것을 확인할 수 있다."
   ]
  },
  {
   "cell_type": "code",
   "execution_count": 215,
   "metadata": {},
   "outputs": [
    {
     "name": "stdout",
     "output_type": "stream",
     "text": [
      "훈련 데이터 점수 : 0.899\n",
      "테스트 데이터 점수 : 0.766\n"
     ]
    }
   ],
   "source": [
    "#alpha값을 10으로 설정\n",
    "\n",
    "ridge=Ridge(alpha=10)\n",
    "\n",
    "ridge.fit(scaled_train,y_train)\n",
    "print('훈련 데이터 점수 : {:.3f}'.format(ridge.score(scaled_train,y_train)))\n",
    "print('테스트 데이터 점수 : {:.3f}'.format(ridge.score(scaled_test,y_test)))"
   ]
  },
  {
   "cell_type": "markdown",
   "metadata": {},
   "source": [
    "### Lasso 회귀"
   ]
  },
  {
   "cell_type": "code",
   "execution_count": 216,
   "metadata": {},
   "outputs": [
    {
     "name": "stdout",
     "output_type": "stream",
     "text": [
      "훈련 데이터 점수 : 0.752\n",
      "테스트 데이터 점수 : 0.633\n"
     ]
    }
   ],
   "source": [
    "from sklearn.linear_model import Lasso\n",
    "\n",
    "lasso=Lasso()\n",
    "\n",
    "lasso.fit(scaled_train,y_train)\n",
    "print('훈련 데이터 점수 : {:.3f}'.format(lasso.score(scaled_train,y_train)))\n",
    "print('테스트 데이터 점수 : {:.3f}'.format(lasso.score(scaled_test,y_test)))"
   ]
  },
  {
   "cell_type": "code",
   "execution_count": 217,
   "metadata": {
    "scrolled": false
   },
   "outputs": [
    {
     "name": "stderr",
     "output_type": "stream",
     "text": [
      "C:\\Users\\wanw9\\anaconda3\\lib\\site-packages\\sklearn\\linear_model\\_coordinate_descent.py:529: ConvergenceWarning: Objective did not converge. You might want to increase the number of iterations. Duality gap: 598.2049793631388, tolerance: 3.233182126649077\n",
      "  model = cd_fast.enet_coordinate_descent(\n"
     ]
    },
    {
     "data": {
      "image/png": "[encoded data removed]",
      "text/plain": [
       "<Figure size 1152x648 with 1 Axes>"
      ]
     },
     "metadata": {
      "needs_background": "light"
     },
     "output_type": "display_data"
    }
   ],
   "source": [
    "#Lasso 회귀식의 최적 alpha값 찾기\n",
    "\n",
    "import numpy as np\n",
    "\n",
    "train_score=[]\n",
    "test_score=[]\n",
    "alpha_list=[0.001,0.01,0.1,1,10,100]\n",
    "\n",
    "\n",
    "for alpha in alpha_list:\n",
    "    lasso=Lasso(alpha=alpha,max_iter=10000)\n",
    "    lasso.fit(scaled_train,y_train)\n",
    "    train_score.append(lasso.score(scaled_train,y_train))\n",
    "    test_score.append(lasso.score(scaled_test,y_test))\n",
    "    \n",
    "import matplotlib.pyplot as plt\n",
    "\n",
    "\n",
    "fig=plt.figure(figsize=(16,9))\n",
    "plt.rcParams['font.family']='Malgun Gothic'\n",
    "\n",
    "\n",
    "plt.plot(np.log10(alpha_list),train_score)\n",
    "plt.plot(np.log10(alpha_list),test_score)\n",
    "plt.rc('axes',unicode_minus=False)\n",
    "plt.xlabel('alpha')\n",
    "plt.ylabel('R^2')\n",
    "plt.show()"
   ]
  },
  {
   "cell_type": "markdown",
   "metadata": {},
   "source": [
    "Lasso 회귀의 alpha값이 10^0 => 즉 1일때 급격하게 정확도가 감소하고 있다.\n",
    "\n",
    "Lasso의 최적 alpha 값은 1\n",
    "\n",
    "Lasso 회귀는 계수를 0으로 만들 수 있기 때문에, 모델의 중요한 특성을 밝혀낼 수도 있다."
   ]
  },
  {
   "cell_type": "code",
   "execution_count": 218,
   "metadata": {
    "scrolled": true
   },
   "outputs": [
    {
     "name": "stdout",
     "output_type": "stream",
     "text": [
      "훈련 데이터 점수 : 0.752\n",
      "테스트 데이터 점수 : 0.633\n",
      "전체 변수의 개수 : 104\n",
      "사용된 변수 : 7\n"
     ]
    }
   ],
   "source": [
    "lasso=Lasso(alpha=1)\n",
    "\n",
    "lasso.fit(scaled_train,y_train)\n",
    "print('훈련 데이터 점수 : {:.3f}'.format(lasso.score(scaled_train,y_train)))\n",
    "print('테스트 데이터 점수 : {:.3f}'.format(lasso.score(scaled_test,y_test)))\n",
    "print('전체 변수의 개수 : %d' %len(scaled_train[0]))\n",
    "print('사용된 변수 : %d' %np.sum(lasso.coef_ !=0))"
   ]
  },
  {
   "cell_type": "markdown",
   "metadata": {},
   "source": [
    "라쏘회귀를 실시했을때 사용된 변수의 개수는 104개중 7개였다.\n",
    "이는 보스턴의 주택가격을 예측하는데 있어서 사용되는 변수의 수가 적다는 것을 의미한다.\n",
    "\n",
    "이에 주택가격과 높은 상관관계를 보이는 변수만을 선택하여 다시한번 회귀분석을 실시한다."
   ]
  },
  {
   "cell_type": "code",
   "execution_count": 219,
   "metadata": {},
   "outputs": [
    {
     "data": {
      "image/png": "[encoded data removed]",
      "text/plain": [
       "<Figure size 1152x648 with 2 Axes>"
      ]
     },
     "metadata": {
      "needs_background": "light"
     },
     "output_type": "display_data"
    }
   ],
   "source": [
    "# 상관관계를 Heatmap을 이용해서 출력\n",
    "import seaborn as  sns\n",
    "\n",
    "plt.figure(figsize=(16,9))\n",
    "\n",
    "\n",
    "sns.heatmap(df.corr(),annot=True,cmap='spring_r')\n",
    "plt.show()"
   ]
  },
  {
   "cell_type": "markdown",
   "metadata": {},
   "source": [
    "### PRICE와 상관관계가 높은 변수들 (0.5이상)\n",
    "\n",
    "- RM\n",
    "- PRTATIO\n",
    "- LSTAT\n",
    "\n",
    "다음의 변수들만 활용하여 회귀분석을 실시한다."
   ]
  },
  {
   "cell_type": "code",
   "execution_count": 220,
   "metadata": {
    "scrolled": true
   },
   "outputs": [
    {
     "data": {
      "text/html": [
       "<div>\n",
       "<style scoped>\n",
       "    .dataframe tbody tr th:only-of-type {\n",
       "        vertical-align: middle;\n",
       "    }\n",
       "\n",
       "    .dataframe tbody tr th {\n",
       "        vertical-align: top;\n",
       "    }\n",
       "\n",
       "    .dataframe thead th {\n",
       "        text-align: right;\n",
       "    }\n",
       "</style>\n",
       "<table border=\"1\" class=\"dataframe\">\n",
       "  <thead>\n",
       "    <tr style=\"text-align: right;\">\n",
       "      <th></th>\n",
       "      <th>RM</th>\n",
       "      <th>PTRATIO</th>\n",
       "      <th>LSTAT</th>\n",
       "      <th>PRICE</th>\n",
       "    </tr>\n",
       "  </thead>\n",
       "  <tbody>\n",
       "    <tr>\n",
       "      <th>0</th>\n",
       "      <td>6.575</td>\n",
       "      <td>15.3</td>\n",
       "      <td>4.98</td>\n",
       "      <td>24.0</td>\n",
       "    </tr>\n",
       "    <tr>\n",
       "      <th>1</th>\n",
       "      <td>6.421</td>\n",
       "      <td>17.8</td>\n",
       "      <td>9.14</td>\n",
       "      <td>21.6</td>\n",
       "    </tr>\n",
       "    <tr>\n",
       "      <th>2</th>\n",
       "      <td>7.185</td>\n",
       "      <td>17.8</td>\n",
       "      <td>4.03</td>\n",
       "      <td>34.7</td>\n",
       "    </tr>\n",
       "    <tr>\n",
       "      <th>3</th>\n",
       "      <td>6.998</td>\n",
       "      <td>18.7</td>\n",
       "      <td>2.94</td>\n",
       "      <td>33.4</td>\n",
       "    </tr>\n",
       "    <tr>\n",
       "      <th>4</th>\n",
       "      <td>7.147</td>\n",
       "      <td>18.7</td>\n",
       "      <td>5.33</td>\n",
       "      <td>36.2</td>\n",
       "    </tr>\n",
       "    <tr>\n",
       "      <th>...</th>\n",
       "      <td>...</td>\n",
       "      <td>...</td>\n",
       "      <td>...</td>\n",
       "      <td>...</td>\n",
       "    </tr>\n",
       "    <tr>\n",
       "      <th>501</th>\n",
       "      <td>6.593</td>\n",
       "      <td>21.0</td>\n",
       "      <td>9.67</td>\n",
       "      <td>22.4</td>\n",
       "    </tr>\n",
       "    <tr>\n",
       "      <th>502</th>\n",
       "      <td>6.120</td>\n",
       "      <td>21.0</td>\n",
       "      <td>9.08</td>\n",
       "      <td>20.6</td>\n",
       "    </tr>\n",
       "    <tr>\n",
       "      <th>503</th>\n",
       "      <td>6.976</td>\n",
       "      <td>21.0</td>\n",
       "      <td>5.64</td>\n",
       "      <td>23.9</td>\n",
       "    </tr>\n",
       "    <tr>\n",
       "      <th>504</th>\n",
       "      <td>6.794</td>\n",
       "      <td>21.0</td>\n",
       "      <td>6.48</td>\n",
       "      <td>22.0</td>\n",
       "    </tr>\n",
       "    <tr>\n",
       "      <th>505</th>\n",
       "      <td>6.030</td>\n",
       "      <td>21.0</td>\n",
       "      <td>7.88</td>\n",
       "      <td>11.9</td>\n",
       "    </tr>\n",
       "  </tbody>\n",
       "</table>\n",
       "<p>506 rows × 4 columns</p>\n",
       "</div>"
      ],
      "text/plain": [
       "        RM  PTRATIO  LSTAT  PRICE\n",
       "0    6.575     15.3   4.98   24.0\n",
       "1    6.421     17.8   9.14   21.6\n",
       "2    7.185     17.8   4.03   34.7\n",
       "3    6.998     18.7   2.94   33.4\n",
       "4    7.147     18.7   5.33   36.2\n",
       "..     ...      ...    ...    ...\n",
       "501  6.593     21.0   9.67   22.4\n",
       "502  6.120     21.0   9.08   20.6\n",
       "503  6.976     21.0   5.64   23.9\n",
       "504  6.794     21.0   6.48   22.0\n",
       "505  6.030     21.0   7.88   11.9\n",
       "\n",
       "[506 rows x 4 columns]"
      ]
     },
     "execution_count": 220,
     "metadata": {},
     "output_type": "execute_result"
    }
   ],
   "source": [
    "df2=df.loc[:,['RM','PTRATIO','LSTAT','PRICE']]\n",
    "df2"
   ]
  },
  {
   "cell_type": "code",
   "execution_count": 221,
   "metadata": {},
   "outputs": [
    {
     "name": "stdout",
     "output_type": "stream",
     "text": [
      "(379, 3) (379,) (127, 3) (127,)\n"
     ]
    }
   ],
   "source": [
    "x2=df2.iloc[:,:-1].to_numpy()\n",
    "y2=df2.iloc[:,-1].to_numpy()\n",
    "\n",
    "x_train2,x_test2,y_train2,y_test2=train_test_split(x2,y2,random_state=5)\n",
    "\n",
    "print(x_train2.shape,y_train2.shape,x_test2.shape,y_test2.shape)"
   ]
  },
  {
   "cell_type": "markdown",
   "metadata": {},
   "source": [
    "### 단순회귀분석"
   ]
  },
  {
   "cell_type": "code",
   "execution_count": 222,
   "metadata": {},
   "outputs": [
    {
     "name": "stdout",
     "output_type": "stream",
     "text": [
      "0.8355670628795531\n",
      "0.7190583458060371\n"
     ]
    }
   ],
   "source": [
    "poly=PolynomialFeatures(degree=4,include_bias=False)\n",
    "lr=LinearRegression()\n",
    "\n",
    "\n",
    "poly.fit(x_train2)\n",
    "\n",
    "train_poly2=poly.transform(x_train2)\n",
    "test_poly2=poly.transform(x_test2)\n",
    "\n",
    "lr.fit(train_poly2,y_train2)\n",
    "\n",
    "print(lr.score(train_poly2,y_train2))\n",
    "print(lr.score(test_poly2,y_test2))"
   ]
  },
  {
   "cell_type": "code",
   "execution_count": 230,
   "metadata": {
    "scrolled": true
   },
   "outputs": [],
   "source": [
    "#표준화\n",
    "\n",
    "ss=StandardScaler()\n",
    "\n",
    "scaled_train2=ss.fit_transform(train_poly2)\n",
    "scaled_test2=ss.transform(test_poly2)"
   ]
  },
  {
   "cell_type": "markdown",
   "metadata": {},
   "source": [
    "### Ridge 회귀"
   ]
  },
  {
   "cell_type": "code",
   "execution_count": 236,
   "metadata": {},
   "outputs": [
    {
     "name": "stdout",
     "output_type": "stream",
     "text": [
      "훈련 데이터 점수 : 0.803\n",
      "테스트 데이터 점수 : 0.784\n"
     ]
    }
   ],
   "source": [
    "ridge=Ridge()\n",
    "\n",
    "ridge.fit(scaled_train2,y_train2)\n",
    "\n",
    "print('훈련 데이터 점수 : {:.3f}'.format(ridge.score(scaled_train2,y_train2)))\n",
    "print('테스트 데이터 점수 : {:.3f}'.format(ridge.score(scaled_test2,y_test2)))"
   ]
  },
  {
   "cell_type": "code",
   "execution_count": 233,
   "metadata": {
    "scrolled": true
   },
   "outputs": [
    {
     "data": {
      "image/png": "[encoded data removed]",
      "text/plain": [
       "<Figure size 432x288 with 1 Axes>"
      ]
     },
     "metadata": {
      "needs_background": "light"
     },
     "output_type": "display_data"
    }
   ],
   "source": [
    "# alpha값 찾기\n",
    "\n",
    "train_score=[]\n",
    "test_score=[]\n",
    "\n",
    "\n",
    "alpha_list=[0.001,0.01,0.1,1,10,100]\n",
    "\n",
    "\n",
    "for alpha in alpha_list:\n",
    "    ridge=Ridge(alpha=alpha)\n",
    "    ridge.fit(scaled_train2,y_train2)\n",
    "    train_score.append(ridge.score(scaled_train2,y_train2))\n",
    "    test_score.append(ridge.score(scaled_test2,y_test2))\n",
    "    \n",
    "plt.plot(np.log10(alpha_list),train_score)\n",
    "plt.plot(np.log10(alpha_list),test_score)\n",
    "plt.xlabel('alpha')\n",
    "plt.ylabel('R^2')\n",
    "plt.show()"
   ]
  },
  {
   "cell_type": "code",
   "execution_count": 234,
   "metadata": {},
   "outputs": [],
   "source": [
    "ridge=Ridge(alpha=10)\n",
    "ridge.fit(scaled_train2,y_train2)\n",
    "\n",
    "train_score=ridge.score(scaled_train2,y_train2)\n",
    "test_score=ridge.score(scaled_test2,y_test2)"
   ]
  },
  {
   "cell_type": "code",
   "execution_count": 241,
   "metadata": {},
   "outputs": [
    {
     "name": "stdout",
     "output_type": "stream",
     "text": [
      "훈련 데이터 점수 : 0.789\n",
      "테스트 데이터 점수 : 0.786\n"
     ]
    }
   ],
   "source": [
    "print('훈련 데이터 점수 : {:.3f}'.format(train_score))\n",
    "print('테스트 데이터 점수 : {:.3f}'.format(test_score))"
   ]
  },
  {
   "cell_type": "markdown",
   "metadata": {},
   "source": [
    "정확도는 0.79로 다소 낮지만, 훈련데이터와 테스트 데이터의 점수가 거의 유사하게 출력되었다.\n",
    "\n",
    "\n"
   ]
  },
  {
   "cell_type": "markdown",
   "metadata": {},
   "source": [
    "### Lasso 회귀"
   ]
  },
  {
   "cell_type": "code",
   "execution_count": 242,
   "metadata": {},
   "outputs": [
    {
     "name": "stdout",
     "output_type": "stream",
     "text": [
      "훈련 데이터 점수 : 0.748\n",
      "테스트 데이터 점수 : 0.755\n"
     ]
    }
   ],
   "source": [
    "lasso=Lasso()\n",
    "\n",
    "lasso.fit(scaled_train2,y_train2)\n",
    "\n",
    "print('훈련 데이터 점수 : {:.3f}'.format(lasso.score(scaled_train2,y_train2)))\n",
    "print('테스트 데이터 점수 : {:.3f}'.format(lasso.score(scaled_test2,y_test2)))"
   ]
  },
  {
   "cell_type": "markdown",
   "metadata": {},
   "source": [
    "테스트 데이터 점수가 더 높아 과소 적합되어있음을 확인할 수 있었다.\n"
   ]
  },
  {
   "cell_type": "code",
   "execution_count": 247,
   "metadata": {},
   "outputs": [
    {
     "name": "stderr",
     "output_type": "stream",
     "text": [
      "C:\\Users\\wanw9\\anaconda3\\lib\\site-packages\\sklearn\\linear_model\\_coordinate_descent.py:529: ConvergenceWarning: Objective did not converge. You might want to increase the number of iterations. Duality gap: 2035.391267071431, tolerance: 3.220372084432718\n",
      "  model = cd_fast.enet_coordinate_descent(\n",
      "C:\\Users\\wanw9\\anaconda3\\lib\\site-packages\\sklearn\\linear_model\\_coordinate_descent.py:529: ConvergenceWarning: Objective did not converge. You might want to increase the number of iterations. Duality gap: 59.12999991324159, tolerance: 3.220372084432718\n",
      "  model = cd_fast.enet_coordinate_descent(\n"
     ]
    },
    {
     "data": {
      "image/png": "[encoded data removed]",
      "text/plain": [
       "<Figure size 432x288 with 1 Axes>"
      ]
     },
     "metadata": {
      "needs_background": "light"
     },
     "output_type": "display_data"
    }
   ],
   "source": [
    "# alpha값 찾기\n",
    "\n",
    "train_score=[]\n",
    "test_score=[]\n",
    "\n",
    "\n",
    "alpha_list=[0.001,0.01,0.1,1,10,100]\n",
    "\n",
    "\n",
    "for alpha in alpha_list:\n",
    "    lasso=Lasso(alpha=alpha)\n",
    "    lasso.fit(scaled_train2,y_train2)\n",
    "    train_score.append(lasso.score(scaled_train2,y_train2))\n",
    "    test_score.append(lasso.score(scaled_test2,y_test2))\n",
    "    \n",
    "plt.plot(np.log10(alpha_list),train_score)\n",
    "plt.plot(np.log10(alpha_list),test_score)\n",
    "plt.xlabel('alpha')\n",
    "plt.ylabel('R^2')\n",
    "plt.show()"
   ]
  },
  {
   "cell_type": "code",
   "execution_count": 249,
   "metadata": {},
   "outputs": [
    {
     "name": "stdout",
     "output_type": "stream",
     "text": [
      "훈련 데이터 점수 : 0.803\n",
      "테스트 데이터 점수 : 0.783\n",
      "전체 변수의 개수 : 34\n",
      "사용된 변수 : 16\n"
     ]
    },
    {
     "name": "stderr",
     "output_type": "stream",
     "text": [
      "C:\\Users\\wanw9\\anaconda3\\lib\\site-packages\\sklearn\\linear_model\\_coordinate_descent.py:529: ConvergenceWarning: Objective did not converge. You might want to increase the number of iterations. Duality gap: 59.12999991324159, tolerance: 3.220372084432718\n",
      "  model = cd_fast.enet_coordinate_descent(\n"
     ]
    }
   ],
   "source": [
    "lasso=Lasso(alpha=0.01)\n",
    "\n",
    "lasso.fit(scaled_train2,y_train2)\n",
    "\n",
    "print('훈련 데이터 점수 : {:.3f}'.format(lasso.score(scaled_train2,y_train2)))\n",
    "print('테스트 데이터 점수 : {:.3f}'.format(lasso.score(scaled_test2,y_test2)))\n",
    "print('전체 변수의 개수 : %d' %len(scaled_train2[0]))\n",
    "print('사용된 변수 : %d' %np.sum(lasso.coef_ !=0))"
   ]
  },
  {
   "cell_type": "markdown",
   "metadata": {},
   "source": [
    "상관관계가 높은 변수만 선정하여 Lasso 회귀를 실시한 결과 전체 34개 변수중 16개 변수를 사용하면서 데이터 점수가 이전보다 향상되었다.  \n",
    "또한 훈련데이터와 테스트 데이터 점수의 차이가 전체 변수를 대상으로 했을 때보다 감소했다.\n"
   ]
  },
  {
   "cell_type": "markdown",
   "metadata": {},
   "source": [
    "### 결론\n",
    "\n",
    "다중회귀식을 활용하여 예측 데이터를 활용하는 방법을 연습하여 숙달하고자 했다.  \n",
    "상관관계가 높은 변수만 선정했을 때, 모델의 정확도가 향상되었고, 모델의 과대적합/과소적합이 일어나지 않는것을 확인할 수 있었다.\n",
    "\n",
    "### 이후 공부 방향\n",
    "\n",
    "- 다른 예측 기법을 사용하여 정확도 향상시키기\n",
    "\n",
    "- 파생변수 추가, 다중공선성 점검 등 추가적인 데이터 전처리를 실시\n"
   ]
  }
 ],
 "metadata": {
  "kernelspec": {
   "display_name": "Python 3",
   "language": "python",
   "name": "python3"
  },
  "language_info": {
   "codemirror_mode": {
    "name": "ipython",
    "version": 3
   },
   "file_extension": ".py",
   "mimetype": "text/x-python",
   "name": "python",
   "nbconvert_exporter": "python",
   "pygments_lexer": "ipython3",
   "version": "3.8.8"
  }
 },
 "nbformat": 4,
 "nbformat_minor": 4
}
